{
 "cells": [
  {
   "cell_type": "code",
   "execution_count": 1,
   "metadata": {},
   "outputs": [],
   "source": [
    "import pandas as pd"
   ]
  },
  {
   "cell_type": "code",
   "execution_count": 4,
   "metadata": {},
   "outputs": [],
   "source": [
    "# Selected modalities\n",
    "selected_folders = [\"MPRAGE\", \"MP-RAGE\", \"MP-RAGE_REPEAT\", \"MPRAGE_SENSE2\", \"Sagittal_3D_FLAIR\"]"
   ]
  },
  {
   "cell_type": "code",
   "execution_count": 12,
   "metadata": {},
   "outputs": [
    {
     "data": {
      "text/html": [
       "<div>\n",
       "<style scoped>\n",
       "    .dataframe tbody tr th:only-of-type {\n",
       "        vertical-align: middle;\n",
       "    }\n",
       "\n",
       "    .dataframe tbody tr th {\n",
       "        vertical-align: top;\n",
       "    }\n",
       "\n",
       "    .dataframe thead th {\n",
       "        text-align: right;\n",
       "    }\n",
       "</style>\n",
       "<table border=\"1\" class=\"dataframe\">\n",
       "  <thead>\n",
       "    <tr style=\"text-align: right;\">\n",
       "      <th></th>\n",
       "      <th>Image Data ID</th>\n",
       "      <th>Subject</th>\n",
       "      <th>Group</th>\n",
       "      <th>Sex</th>\n",
       "      <th>Age</th>\n",
       "      <th>Visit</th>\n",
       "      <th>Modality</th>\n",
       "      <th>Description</th>\n",
       "      <th>Type</th>\n",
       "      <th>Acq Date</th>\n",
       "      <th>Format</th>\n",
       "      <th>Downloaded</th>\n",
       "    </tr>\n",
       "  </thead>\n",
       "  <tbody>\n",
       "    <tr>\n",
       "      <th>0</th>\n",
       "      <td>I293909</td>\n",
       "      <td>127_S_4198</td>\n",
       "      <td>CN</td>\n",
       "      <td>F</td>\n",
       "      <td>79</td>\n",
       "      <td>v05</td>\n",
       "      <td>MRI</td>\n",
       "      <td>Accelerated Sag IR-SPGR</td>\n",
       "      <td>Original</td>\n",
       "      <td>3/28/2012</td>\n",
       "      <td>DCM</td>\n",
       "      <td>NaN</td>\n",
       "    </tr>\n",
       "    <tr>\n",
       "      <th>1</th>\n",
       "      <td>I920967</td>\n",
       "      <td>099_S_4076</td>\n",
       "      <td>CN</td>\n",
       "      <td>F</td>\n",
       "      <td>79</td>\n",
       "      <td>init</td>\n",
       "      <td>MRI</td>\n",
       "      <td>Calibration Scan</td>\n",
       "      <td>Original</td>\n",
       "      <td>10/20/2017</td>\n",
       "      <td>DCM</td>\n",
       "      <td>NaN</td>\n",
       "    </tr>\n",
       "    <tr>\n",
       "      <th>2</th>\n",
       "      <td>I277098</td>\n",
       "      <td>082_S_4090</td>\n",
       "      <td>CN</td>\n",
       "      <td>M</td>\n",
       "      <td>72</td>\n",
       "      <td>v05</td>\n",
       "      <td>MRI</td>\n",
       "      <td>MPRAGE</td>\n",
       "      <td>Original</td>\n",
       "      <td>1/04/2012</td>\n",
       "      <td>DCM</td>\n",
       "      <td>NaN</td>\n",
       "    </tr>\n",
       "    <tr>\n",
       "      <th>3</th>\n",
       "      <td>I389418</td>\n",
       "      <td>941_S_4100</td>\n",
       "      <td>CN</td>\n",
       "      <td>F</td>\n",
       "      <td>81</td>\n",
       "      <td>v21</td>\n",
       "      <td>MRI</td>\n",
       "      <td>localizer</td>\n",
       "      <td>Original</td>\n",
       "      <td>8/30/2013</td>\n",
       "      <td>DCM</td>\n",
       "      <td>NaN</td>\n",
       "    </tr>\n",
       "    <tr>\n",
       "      <th>4</th>\n",
       "      <td>I956368</td>\n",
       "      <td>033_S_4177</td>\n",
       "      <td>CN</td>\n",
       "      <td>M</td>\n",
       "      <td>91</td>\n",
       "      <td>init</td>\n",
       "      <td>MRI</td>\n",
       "      <td>Field Mapping</td>\n",
       "      <td>Original</td>\n",
       "      <td>1/23/2018</td>\n",
       "      <td>DCM</td>\n",
       "      <td>NaN</td>\n",
       "    </tr>\n",
       "  </tbody>\n",
       "</table>\n",
       "</div>"
      ],
      "text/plain": [
       "  Image Data ID     Subject Group Sex  Age Visit Modality  \\\n",
       "0       I293909  127_S_4198    CN   F   79   v05      MRI   \n",
       "1       I920967  099_S_4076    CN   F   79  init      MRI   \n",
       "2       I277098  082_S_4090    CN   M   72   v05      MRI   \n",
       "3       I389418  941_S_4100    CN   F   81   v21      MRI   \n",
       "4       I956368  033_S_4177    CN   M   91  init      MRI   \n",
       "\n",
       "               Description      Type    Acq Date Format  Downloaded  \n",
       "0  Accelerated Sag IR-SPGR  Original   3/28/2012    DCM         NaN  \n",
       "1         Calibration Scan  Original  10/20/2017    DCM         NaN  \n",
       "2                   MPRAGE  Original   1/04/2012    DCM         NaN  \n",
       "3                localizer  Original   8/30/2013    DCM         NaN  \n",
       "4            Field Mapping  Original   1/23/2018    DCM         NaN  "
      ]
     },
     "execution_count": 12,
     "metadata": {},
     "output_type": "execute_result"
    }
   ],
   "source": [
    "my_images_metadata_df = pd.read_csv(\"../mri-images/ipcv-2_11_02_2024.csv\")\n",
    "my_images_metadata_df.head()"
   ]
  },
  {
   "cell_type": "code",
   "execution_count": 13,
   "metadata": {},
   "outputs": [
    {
     "data": {
      "text/plain": [
       "(5103, 12)"
      ]
     },
     "execution_count": 13,
     "metadata": {},
     "output_type": "execute_result"
    }
   ],
   "source": [
    "my_images_metadata_df.shape"
   ]
  },
  {
   "cell_type": "code",
   "execution_count": 15,
   "metadata": {},
   "outputs": [],
   "source": [
    "filtered_images_metadata_df = pd.DataFrame()"
   ]
  },
  {
   "cell_type": "code",
   "execution_count": 16,
   "metadata": {},
   "outputs": [],
   "source": [
    "for folder_name in selected_folders:\n",
    "    filtered_df = my_images_metadata_df[my_images_metadata_df[\"Description\"] == folder_name]\n",
    "    filtered_images_metadata_df = pd.concat([filtered_images_metadata_df, filtered_df])"
   ]
  },
  {
   "cell_type": "code",
   "execution_count": 19,
   "metadata": {},
   "outputs": [
    {
     "data": {
      "text/plain": [
       "array(['MPRAGE'], dtype=object)"
      ]
     },
     "execution_count": 19,
     "metadata": {},
     "output_type": "execute_result"
    }
   ],
   "source": [
    "filtered_images_metadata_df[\"Description\"].unique()"
   ]
  },
  {
   "cell_type": "code",
   "execution_count": null,
   "metadata": {},
   "outputs": [
    {
     "name": "stdout",
     "output_type": "stream",
     "text": [
      "MPRAGE\n"
     ]
    }
   ],
   "source": [
    "for description in my_images_metadata_df[\"Description\"].unique():\n",
    "    if description in selected_folders:\n",
    "        print(description)"
   ]
  },
  {
   "cell_type": "code",
   "execution_count": 22,
   "metadata": {},
   "outputs": [
    {
     "data": {
      "text/plain": [
       "(287, 12)"
      ]
     },
     "execution_count": 22,
     "metadata": {},
     "output_type": "execute_result"
    }
   ],
   "source": [
    "filtered_images_metadata_df.shape"
   ]
  },
  {
   "cell_type": "code",
   "execution_count": 23,
   "metadata": {},
   "outputs": [
    {
     "data": {
      "text/plain": [
       "56"
      ]
     },
     "execution_count": 23,
     "metadata": {},
     "output_type": "execute_result"
    }
   ],
   "source": [
    "filtered_images_metadata_df[\"Subject\"].nunique()"
   ]
  },
  {
   "cell_type": "code",
   "execution_count": 25,
   "metadata": {},
   "outputs": [
    {
     "data": {
      "text/plain": [
       "3 Plane Localizer                                                  721\n",
       "localizer                                                          664\n",
       "Field Mapping                                                      361\n",
       "MPRAGE                                                             287\n",
       "Axial T2-FLAIR                                                     268\n",
       "                                                                  ... \n",
       "Sag 3D T2 CUBE  (MSV21)                                              1\n",
       "HighResHippo Scan (Oblique - perpendicular to hippocampal tail)      1\n",
       "Axial T2-FLAIR REPEAT                                                1\n",
       "gre_field_mapping_NO ANGLE                                           1\n",
       "REPEAT Axial T2-FLAIR                                                1\n",
       "Name: Description, Length: 135, dtype: int64"
      ]
     },
     "execution_count": 25,
     "metadata": {},
     "output_type": "execute_result"
    }
   ],
   "source": [
    "my_images_metadata_df[\"Description\"].value_counts()"
   ]
  },
  {
   "cell_type": "markdown",
   "metadata": {},
   "source": [
    "## EDA"
   ]
  },
  {
   "cell_type": "code",
   "execution_count": 26,
   "metadata": {},
   "outputs": [],
   "source": [
    "import matplotlib.pyplot as plt"
   ]
  },
  {
   "cell_type": "code",
   "execution_count": 27,
   "metadata": {},
   "outputs": [
    {
     "data": {
      "text/plain": [
       "(array([101.,   0.,   0., 133.,   0.,   0.,  45.,   0.,   0.,   8.]),\n",
       " array([0. , 0.3, 0.6, 0.9, 1.2, 1.5, 1.8, 2.1, 2.4, 2.7, 3. ]),\n",
       " <BarContainer object of 10 artists>)"
      ]
     },
     "execution_count": 27,
     "metadata": {},
     "output_type": "execute_result"
    },
    {
     "data": {
      "image/png": "[encoded data removed]",
      "text/plain": [
       "<Figure size 640x480 with 1 Axes>"
      ]
     },
     "metadata": {},
     "output_type": "display_data"
    }
   ],
   "source": [
    "plt.hist(filtered_images_metadata_df[\"Group\"])"
   ]
  },
  {
   "cell_type": "code",
   "execution_count": null,
   "metadata": {},
   "outputs": [],
   "source": []
  },
  {
   "cell_type": "markdown",
   "metadata": {},
   "source": [
    "## All Required Images Metadata Analysis"
   ]
  },
  {
   "cell_type": "code",
   "execution_count": 28,
   "metadata": {},
   "outputs": [
    {
     "data": {
      "text/html": [
       "<div>\n",
       "<style scoped>\n",
       "    .dataframe tbody tr th:only-of-type {\n",
       "        vertical-align: middle;\n",
       "    }\n",
       "\n",
       "    .dataframe tbody tr th {\n",
       "        vertical-align: top;\n",
       "    }\n",
       "\n",
       "    .dataframe thead th {\n",
       "        text-align: right;\n",
       "    }\n",
       "</style>\n",
       "<table border=\"1\" class=\"dataframe\">\n",
       "  <thead>\n",
       "    <tr style=\"text-align: right;\">\n",
       "      <th></th>\n",
       "      <th>Image Data ID</th>\n",
       "      <th>Subject</th>\n",
       "      <th>Group</th>\n",
       "      <th>Sex</th>\n",
       "      <th>Age</th>\n",
       "      <th>Visit</th>\n",
       "      <th>Modality</th>\n",
       "      <th>Description</th>\n",
       "      <th>Type</th>\n",
       "      <th>Acq Date</th>\n",
       "      <th>Format</th>\n",
       "      <th>Downloaded</th>\n",
       "    </tr>\n",
       "  </thead>\n",
       "  <tbody>\n",
       "    <tr>\n",
       "      <th>0</th>\n",
       "      <td>I82186</td>\n",
       "      <td>023_S_0031</td>\n",
       "      <td>CN</td>\n",
       "      <td>F</td>\n",
       "      <td>80</td>\n",
       "      <td>m24</td>\n",
       "      <td>MRI</td>\n",
       "      <td>B1-calibration Body</td>\n",
       "      <td>Original</td>\n",
       "      <td>11/14/2007</td>\n",
       "      <td>DCM</td>\n",
       "      <td>NaN</td>\n",
       "    </tr>\n",
       "    <tr>\n",
       "      <th>1</th>\n",
       "      <td>I360490</td>\n",
       "      <td>029_S_4384</td>\n",
       "      <td>CN</td>\n",
       "      <td>M</td>\n",
       "      <td>64</td>\n",
       "      <td>v11</td>\n",
       "      <td>MRI</td>\n",
       "      <td>3 Plane Localizer</td>\n",
       "      <td>Original</td>\n",
       "      <td>2/14/2013</td>\n",
       "      <td>DCM</td>\n",
       "      <td>NaN</td>\n",
       "    </tr>\n",
       "    <tr>\n",
       "      <th>2</th>\n",
       "      <td>I296823</td>\n",
       "      <td>029_S_4384</td>\n",
       "      <td>CN</td>\n",
       "      <td>M</td>\n",
       "      <td>63</td>\n",
       "      <td>v04</td>\n",
       "      <td>MRI</td>\n",
       "      <td>3-plane localizer</td>\n",
       "      <td>Original</td>\n",
       "      <td>3/21/2012</td>\n",
       "      <td>DCM</td>\n",
       "      <td>NaN</td>\n",
       "    </tr>\n",
       "    <tr>\n",
       "      <th>3</th>\n",
       "      <td>I1058025</td>\n",
       "      <td>006_S_0731</td>\n",
       "      <td>CN</td>\n",
       "      <td>M</td>\n",
       "      <td>84</td>\n",
       "      <td>y1</td>\n",
       "      <td>MRI</td>\n",
       "      <td>HighResHippo Scan (Oblique - perpendicular to ...</td>\n",
       "      <td>Original</td>\n",
       "      <td>10/10/2018</td>\n",
       "      <td>DCM</td>\n",
       "      <td>NaN</td>\n",
       "    </tr>\n",
       "    <tr>\n",
       "      <th>4</th>\n",
       "      <td>I355778</td>\n",
       "      <td>941_S_4376</td>\n",
       "      <td>CN</td>\n",
       "      <td>F</td>\n",
       "      <td>78</td>\n",
       "      <td>v11</td>\n",
       "      <td>MRI</td>\n",
       "      <td>localizer</td>\n",
       "      <td>Original</td>\n",
       "      <td>1/22/2013</td>\n",
       "      <td>DCM</td>\n",
       "      <td>NaN</td>\n",
       "    </tr>\n",
       "  </tbody>\n",
       "</table>\n",
       "</div>"
      ],
      "text/plain": [
       "  Image Data ID     Subject Group Sex  Age Visit Modality  \\\n",
       "0        I82186  023_S_0031    CN   F   80   m24      MRI   \n",
       "1       I360490  029_S_4384    CN   M   64   v11      MRI   \n",
       "2       I296823  029_S_4384    CN   M   63   v04      MRI   \n",
       "3      I1058025  006_S_0731    CN   M   84    y1      MRI   \n",
       "4       I355778  941_S_4376    CN   F   78   v11      MRI   \n",
       "\n",
       "                                         Description      Type    Acq Date  \\\n",
       "0                                B1-calibration Body  Original  11/14/2007   \n",
       "1                                  3 Plane Localizer  Original   2/14/2013   \n",
       "2                                  3-plane localizer  Original   3/21/2012   \n",
       "3  HighResHippo Scan (Oblique - perpendicular to ...  Original  10/10/2018   \n",
       "4                                          localizer  Original   1/22/2013   \n",
       "\n",
       "  Format Downloaded  \n",
       "0    DCM        NaN  \n",
       "1    DCM        NaN  \n",
       "2    DCM        NaN  \n",
       "3    DCM        NaN  \n",
       "4    DCM        NaN  "
      ]
     },
     "execution_count": 28,
     "metadata": {},
     "output_type": "execute_result"
    }
   ],
   "source": [
    "all_images_metadata_df = pd.read_csv(\"../mri-images/all_required_images_11_02_2024.csv\")\n",
    "all_images_metadata_df.head()"
   ]
  },
  {
   "cell_type": "code",
   "execution_count": 29,
   "metadata": {},
   "outputs": [
    {
     "data": {
      "text/plain": [
       "(17966, 12)"
      ]
     },
     "execution_count": 29,
     "metadata": {},
     "output_type": "execute_result"
    }
   ],
   "source": [
    "all_images_metadata_df.shape"
   ]
  },
  {
   "cell_type": "code",
   "execution_count": 30,
   "metadata": {},
   "outputs": [
    {
     "data": {
      "text/plain": [
       "(array([9137.,    0.,    0., 5463.,    0.,    0., 1688.,    0.,    0.,\n",
       "        1678.]),\n",
       " array([0. , 0.3, 0.6, 0.9, 1.2, 1.5, 1.8, 2.1, 2.4, 2.7, 3. ]),\n",
       " <BarContainer object of 10 artists>)"
      ]
     },
     "execution_count": 30,
     "metadata": {},
     "output_type": "execute_result"
    },
    {
     "data": {
      "image/png": "[encoded data removed]",
      "text/plain": [
       "<Figure size 640x480 with 1 Axes>"
      ]
     },
     "metadata": {},
     "output_type": "display_data"
    }
   ],
   "source": [
    "plt.hist(all_images_metadata_df[\"Group\"])"
   ]
  },
  {
   "cell_type": "code",
   "execution_count": null,
   "metadata": {},
   "outputs": [],
   "source": []
  },
  {
   "cell_type": "markdown",
   "metadata": {},
   "source": [
    "## Only AD Patients Metadata"
   ]
  },
  {
   "cell_type": "code",
   "execution_count": 32,
   "metadata": {},
   "outputs": [
    {
     "data": {
      "text/html": [
       "<div>\n",
       "<style scoped>\n",
       "    .dataframe tbody tr th:only-of-type {\n",
       "        vertical-align: middle;\n",
       "    }\n",
       "\n",
       "    .dataframe tbody tr th {\n",
       "        vertical-align: top;\n",
       "    }\n",
       "\n",
       "    .dataframe thead th {\n",
       "        text-align: right;\n",
       "    }\n",
       "</style>\n",
       "<table border=\"1\" class=\"dataframe\">\n",
       "  <thead>\n",
       "    <tr style=\"text-align: right;\">\n",
       "      <th></th>\n",
       "      <th>Image Data ID</th>\n",
       "      <th>Subject</th>\n",
       "      <th>Group</th>\n",
       "      <th>Sex</th>\n",
       "      <th>Age</th>\n",
       "      <th>Visit</th>\n",
       "      <th>Modality</th>\n",
       "      <th>Description</th>\n",
       "      <th>Type</th>\n",
       "      <th>Acq Date</th>\n",
       "      <th>Format</th>\n",
       "      <th>Downloaded</th>\n",
       "    </tr>\n",
       "  </thead>\n",
       "  <tbody>\n",
       "    <tr>\n",
       "      <th>0</th>\n",
       "      <td>I133024</td>\n",
       "      <td>029_S_1056</td>\n",
       "      <td>AD</td>\n",
       "      <td>F</td>\n",
       "      <td>73</td>\n",
       "      <td>m24</td>\n",
       "      <td>MRI</td>\n",
       "      <td>3-pl T2* FGRE S</td>\n",
       "      <td>Original</td>\n",
       "      <td>1/07/2009</td>\n",
       "      <td>DCM</td>\n",
       "      <td>NaN</td>\n",
       "    </tr>\n",
       "    <tr>\n",
       "      <th>1</th>\n",
       "      <td>I360467</td>\n",
       "      <td>029_S_4307</td>\n",
       "      <td>AD</td>\n",
       "      <td>M</td>\n",
       "      <td>80</td>\n",
       "      <td>v11</td>\n",
       "      <td>MRI</td>\n",
       "      <td>Axial T2 Star</td>\n",
       "      <td>Original</td>\n",
       "      <td>2/14/2013</td>\n",
       "      <td>DCM</td>\n",
       "      <td>NaN</td>\n",
       "    </tr>\n",
       "    <tr>\n",
       "      <th>2</th>\n",
       "      <td>D10955287</td>\n",
       "      <td>033_S_10249</td>\n",
       "      <td>AD</td>\n",
       "      <td>F</td>\n",
       "      <td>84</td>\n",
       "      <td>4_sc</td>\n",
       "      <td>MRI</td>\n",
       "      <td>Axial 3D ME T2 GRE (MSV21)</td>\n",
       "      <td>Original</td>\n",
       "      <td>9/20/2024</td>\n",
       "      <td>DCM</td>\n",
       "      <td>NaN</td>\n",
       "    </tr>\n",
       "    <tr>\n",
       "      <th>3</th>\n",
       "      <td>I30294</td>\n",
       "      <td>032_S_1101</td>\n",
       "      <td>AD</td>\n",
       "      <td>F</td>\n",
       "      <td>71</td>\n",
       "      <td>sc</td>\n",
       "      <td>MRI</td>\n",
       "      <td>SURVEY</td>\n",
       "      <td>Original</td>\n",
       "      <td>11/21/2006</td>\n",
       "      <td>DCM</td>\n",
       "      <td>NaN</td>\n",
       "    </tr>\n",
       "    <tr>\n",
       "      <th>4</th>\n",
       "      <td>I264963</td>\n",
       "      <td>116_S_4338</td>\n",
       "      <td>AD</td>\n",
       "      <td>M</td>\n",
       "      <td>81</td>\n",
       "      <td>v02</td>\n",
       "      <td>MRI</td>\n",
       "      <td>localizer</td>\n",
       "      <td>Original</td>\n",
       "      <td>11/02/2011</td>\n",
       "      <td>DCM</td>\n",
       "      <td>NaN</td>\n",
       "    </tr>\n",
       "  </tbody>\n",
       "</table>\n",
       "</div>"
      ],
      "text/plain": [
       "  Image Data ID      Subject Group Sex  Age Visit Modality  \\\n",
       "0       I133024   029_S_1056    AD   F   73   m24      MRI   \n",
       "1       I360467   029_S_4307    AD   M   80   v11      MRI   \n",
       "2     D10955287  033_S_10249    AD   F   84  4_sc      MRI   \n",
       "3        I30294   032_S_1101    AD   F   71    sc      MRI   \n",
       "4       I264963   116_S_4338    AD   M   81   v02      MRI   \n",
       "\n",
       "                  Description      Type    Acq Date Format  Downloaded  \n",
       "0             3-pl T2* FGRE S  Original   1/07/2009    DCM         NaN  \n",
       "1               Axial T2 Star  Original   2/14/2013    DCM         NaN  \n",
       "2  Axial 3D ME T2 GRE (MSV21)  Original   9/20/2024    DCM         NaN  \n",
       "3                      SURVEY  Original  11/21/2006    DCM         NaN  \n",
       "4                   localizer  Original  11/02/2011    DCM         NaN  "
      ]
     },
     "execution_count": 32,
     "metadata": {},
     "output_type": "execute_result"
    }
   ],
   "source": [
    "only_ad_patients_df = pd.read_csv(\"../mri-images/only_AD_patients_11_02_2024.csv\")\n",
    "only_ad_patients_df.head()"
   ]
  },
  {
   "cell_type": "code",
   "execution_count": 34,
   "metadata": {},
   "outputs": [
    {
     "name": "stdout",
     "output_type": "stream",
     "text": [
      "<class 'pandas.core.frame.DataFrame'>\n",
      "RangeIndex: 13620 entries, 0 to 13619\n",
      "Data columns (total 12 columns):\n",
      " #   Column         Non-Null Count  Dtype  \n",
      "---  ------         --------------  -----  \n",
      " 0   Image Data ID  13620 non-null  object \n",
      " 1   Subject        13620 non-null  object \n",
      " 2   Group          13620 non-null  object \n",
      " 3   Sex            13620 non-null  object \n",
      " 4   Age            13620 non-null  int64  \n",
      " 5   Visit          13620 non-null  object \n",
      " 6   Modality       13620 non-null  object \n",
      " 7   Description    13620 non-null  object \n",
      " 8   Type           13620 non-null  object \n",
      " 9   Acq Date       13620 non-null  object \n",
      " 10  Format         13620 non-null  object \n",
      " 11  Downloaded     0 non-null      float64\n",
      "dtypes: float64(1), int64(1), object(10)\n",
      "memory usage: 1.2+ MB\n"
     ]
    }
   ],
   "source": [
    "only_ad_patients_df.info()"
   ]
  },
  {
   "cell_type": "code",
   "execution_count": 35,
   "metadata": {},
   "outputs": [
    {
     "data": {
      "text/plain": [
       "717"
      ]
     },
     "execution_count": 35,
     "metadata": {},
     "output_type": "execute_result"
    }
   ],
   "source": [
    "(only_ad_patients_df[\"Description\"] == \"MPRAGE\").sum()"
   ]
  },
  {
   "cell_type": "code",
   "execution_count": null,
   "metadata": {},
   "outputs": [],
   "source": []
  }
 ],
 "metadata": {
  "kernelspec": {
   "display_name": "base",
   "language": "python",
   "name": "python3"
  },
  "language_info": {
   "codemirror_mode": {
    "name": "ipython",
    "version": 3
   },
   "file_extension": ".py",
   "mimetype": "text/x-python",
   "name": "python",
   "nbconvert_exporter": "python",
   "pygments_lexer": "ipython3",
   "version": "3.9.18"
  }
 },
 "nbformat": 4,
 "nbformat_minor": 2
}
